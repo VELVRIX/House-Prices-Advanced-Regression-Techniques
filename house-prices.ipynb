{
 "cells": [
  {
   "cell_type": "code",
   "execution_count": 1,
   "id": "1d194fa9",
   "metadata": {
    "_cell_guid": "b1076dfc-b9ad-4769-8c92-a6c4dae69d19",
    "_uuid": "8f2839f25d086af736a60e9eeb907d3b93b6e0e5",
    "execution": {
     "iopub.execute_input": "2022-07-19T13:22:38.215329Z",
     "iopub.status.busy": "2022-07-19T13:22:38.214455Z",
     "iopub.status.idle": "2022-07-19T13:22:38.330170Z",
     "shell.execute_reply": "2022-07-19T13:22:38.328157Z"
    },
    "papermill": {
     "duration": 0.126849,
     "end_time": "2022-07-19T13:22:38.334105",
     "exception": false,
     "start_time": "2022-07-19T13:22:38.207256",
     "status": "completed"
    },
    "tags": []
   },
   "outputs": [],
   "source": [
    "# This Python 3 environment comes with many helpful analytics libraries installed\n",
    "# It is defined by the kaggle/python Docker image: https://github.com/kaggle/docker-python\n",
    "# For example, here's several helpful packages to load\n",
    "\n",
    "import numpy as np # linear algebra\n",
    "import pandas as pd # data processing, CSV file I/O (e.g. pd.read_csv)\n",
    "\n",
    "# Input data files are available in the read-only \"../input/\" directory\n",
    "# For example, running this (by clicking run or pressing Shift+Enter) will list all files under the input directory\n",
    "\n",
    "import os\n",
    "for dirname, _, filenames in os.walk('/kaggle/input'):\n",
    "    for filename in filenames:\n",
    "        if filename == 'train.csv':\n",
    "            data = pd.read_csv(os.path.join(dirname, filename))\n",
    "        elif filename == 'test.csv':\n",
    "            test_data = pd.read_csv(os.path.join(dirname, filename))\n",
    "\n",
    "# You can write up to 20GB to the current directory (/kaggle/working/) that gets preserved as output when you create a version using \"Save & Run All\" \n",
    "# You can also write temporary files to /kaggle/temp/, but they won't be saved outside of the current session"
   ]
  },
  {
   "cell_type": "code",
   "execution_count": 2,
   "id": "cc9a1408",
   "metadata": {
    "execution": {
     "iopub.execute_input": "2022-07-19T13:22:38.344460Z",
     "iopub.status.busy": "2022-07-19T13:22:38.343782Z",
     "iopub.status.idle": "2022-07-19T13:22:38.778788Z",
     "shell.execute_reply": "2022-07-19T13:22:38.776926Z"
    },
    "papermill": {
     "duration": 0.444109,
     "end_time": "2022-07-19T13:22:38.782277",
     "exception": false,
     "start_time": "2022-07-19T13:22:38.338168",
     "status": "completed"
    },
    "tags": []
   },
   "outputs": [
    {
     "name": "stdout",
     "output_type": "stream",
     "text": [
      "The correlation between TotalBsmtSF and 1stFlrSF is 0.8195299750050337!\n",
      "The correlation between 1stFlrSF and TotalBsmtSF is 0.8195299750050337!\n",
      "The correlation between GrLivArea and TotRmsAbvGrd is 0.8254893743088426!\n",
      "The correlation between TotRmsAbvGrd and GrLivArea is 0.8254893743088427!\n",
      "The correlation between GarageCars and GarageArea is 0.8824754142814625!\n",
      "The correlation between GarageArea and GarageCars is 0.8824754142814625!\n"
     ]
    }
   ],
   "source": [
    "# Check high correlations between variables\n",
    "for column in data:\n",
    "    dtype = data[column].dtype\n",
    "    if dtype in ['int64', 'float64']:\n",
    "        for column2 in data:\n",
    "            dtype2 = data[column2].dtype\n",
    "            if dtype2 == dtype:\n",
    "                corr = data[column].corr(data[column2])\n",
    "                if corr > 0.8 and corr < 0.999:\n",
    "                    print('The correlation between {} and {} is {}!'.format(column, column2, corr))"
   ]
  },
  {
   "cell_type": "code",
   "execution_count": 3,
   "id": "aa2fea75",
   "metadata": {
    "execution": {
     "iopub.execute_input": "2022-07-19T13:22:38.793116Z",
     "iopub.status.busy": "2022-07-19T13:22:38.792569Z",
     "iopub.status.idle": "2022-07-19T13:22:38.814239Z",
     "shell.execute_reply": "2022-07-19T13:22:38.812535Z"
    },
    "papermill": {
     "duration": 0.031907,
     "end_time": "2022-07-19T13:22:38.818702",
     "exception": false,
     "start_time": "2022-07-19T13:22:38.786795",
     "status": "completed"
    },
    "tags": []
   },
   "outputs": [],
   "source": [
    "# Remove attributes with high correlation to some other attribute (they describe the same thing)\n",
    "# and attributes that have high chance of being similar (Exterior2nd in comparison to Exterior1st , Condition2 in comparison to Condition1)\n",
    "data = data.drop(['Id', 'PoolQC', 'MiscFeature', 'Condition2', 'Exterior2nd', '1stFlrSF', 'TotRmsAbvGrd', 'GarageArea', 'Utilities', 'Street', 'Alley'], axis=1)\n",
    "train_y = data['SalePrice']\n",
    "train_x = data.drop('SalePrice', axis=1)"
   ]
  },
  {
   "cell_type": "code",
   "execution_count": 4,
   "id": "1bc12fb7",
   "metadata": {
    "execution": {
     "iopub.execute_input": "2022-07-19T13:22:38.832434Z",
     "iopub.status.busy": "2022-07-19T13:22:38.830689Z",
     "iopub.status.idle": "2022-07-19T13:22:40.349203Z",
     "shell.execute_reply": "2022-07-19T13:22:40.347917Z"
    },
    "papermill": {
     "duration": 1.52891,
     "end_time": "2022-07-19T13:22:40.352398",
     "exception": false,
     "start_time": "2022-07-19T13:22:38.823488",
     "status": "completed"
    },
    "tags": []
   },
   "outputs": [],
   "source": [
    "from sklearn import preprocessing\n",
    "# Helper function to encode categorical labels\n",
    "def encode_labels(dataset):\n",
    "    label_encoder = preprocessing.LabelEncoder()\n",
    "    for column in dataset:\n",
    "        dtype = dataset[column].dtype\n",
    "        if dtype not in ['int64', 'float64']:\n",
    "            dataset[column] = label_encoder.fit_transform(dataset[column])\n",
    "    return dataset"
   ]
  },
  {
   "cell_type": "code",
   "execution_count": 5,
   "id": "daa41c3c",
   "metadata": {
    "execution": {
     "iopub.execute_input": "2022-07-19T13:22:40.362379Z",
     "iopub.status.busy": "2022-07-19T13:22:40.361835Z",
     "iopub.status.idle": "2022-07-19T13:22:40.477477Z",
     "shell.execute_reply": "2022-07-19T13:22:40.475746Z"
    },
    "papermill": {
     "duration": 0.125392,
     "end_time": "2022-07-19T13:22:40.481645",
     "exception": false,
     "start_time": "2022-07-19T13:22:40.356253",
     "status": "completed"
    },
    "tags": []
   },
   "outputs": [],
   "source": [
    "# Standardize and normalize the data\n",
    "from sklearn.preprocessing import StandardScaler\n",
    "train_x = encode_labels(train_x)\n",
    "test_ids = test_data['Id']\n",
    "common_cols = [col for col in set(data.columns).intersection(test_data.columns)]\n",
    "test_data = test_data[common_cols]\n",
    "train_x = train_x[common_cols]\n",
    "sc = StandardScaler()\n",
    "train_x = sc.fit_transform(train_x)\n",
    "test_data = encode_labels(test_data)\n",
    "test_data = sc.transform(test_data)  "
   ]
  },
  {
   "cell_type": "code",
   "execution_count": 6,
   "id": "65d7cc33",
   "metadata": {
    "execution": {
     "iopub.execute_input": "2022-07-19T13:22:40.491730Z",
     "iopub.status.busy": "2022-07-19T13:22:40.491243Z",
     "iopub.status.idle": "2022-07-19T13:24:26.596613Z",
     "shell.execute_reply": "2022-07-19T13:24:26.595107Z"
    },
    "papermill": {
     "duration": 106.114539,
     "end_time": "2022-07-19T13:24:26.600246",
     "exception": false,
     "start_time": "2022-07-19T13:22:40.485707",
     "status": "completed"
    },
    "tags": []
   },
   "outputs": [
    {
     "name": "stdout",
     "output_type": "stream",
     "text": [
      "Fitting 3 folds for each of 16 candidates, totalling 48 fits\n"
     ]
    },
    {
     "name": "stderr",
     "output_type": "stream",
     "text": [
      "/opt/conda/lib/python3.7/site-packages/sklearn/model_selection/_split.py:680: UserWarning: The least populated class in y has only 1 members, which is less than n_splits=3.\n",
      "  UserWarning,\n",
      "/opt/conda/lib/python3.7/site-packages/sklearn/model_selection/_search.py:972: UserWarning: One or more of the test scores are non-finite: [nan nan nan nan nan nan nan nan nan nan nan nan nan nan nan nan]\n",
      "  category=UserWarning,\n"
     ]
    },
    {
     "name": "stdout",
     "output_type": "stream",
     "text": [
      "[13:24:16] WARNING: ../src/learner.cc:627: \n",
      "Parameters: { \"silent\" } might not be used.\n",
      "\n",
      "  This could be a false alarm, with some parameters getting used by language bindings but\n",
      "  then being mistakenly passed down to XGBoost core, or some parameter actually being used\n",
      "  but getting flagged wrongly here. Please open an issue if you find any such cases.\n",
      "\n",
      "\n"
     ]
    },
    {
     "data": {
      "text/plain": [
       "RandomizedSearchCV(cv=<generator object _BaseKFold.split at 0x7f0b2da690d0>,\n",
       "                   estimator=XGBRegressor(base_score=None, booster=None,\n",
       "                                          callbacks=None,\n",
       "                                          colsample_bylevel=None,\n",
       "                                          colsample_bynode=None,\n",
       "                                          colsample_bytree=None,\n",
       "                                          early_stopping_rounds=None,\n",
       "                                          enable_categorical=False,\n",
       "                                          eval_metric=None, gamma=None,\n",
       "                                          gpu_id=None, grow_policy=None,\n",
       "                                          importance_type=None,\n",
       "                                          interaction_co...\n",
       "                                          min_child_weight=None, missing=nan,\n",
       "                                          monotone_constraints=None,\n",
       "                                          n_estimators=100, n_jobs=None,\n",
       "                                          nthread=1, num_parallel_tree=None,\n",
       "                                          predictor=None, random_state=None,\n",
       "                                          reg_alpha=None, ...),\n",
       "                   n_iter=16, n_jobs=8,\n",
       "                   param_distributions={'learning_rate': [0.05, 0.1, 0.2],\n",
       "                                        'max_depth': [3, 6, 9],\n",
       "                                        'min_child_weight': [1, 10, 100],\n",
       "                                        'n_estimators': [100, 400, 800]},\n",
       "                   random_state=1001, scoring='roc_auc', verbose=3)"
      ]
     },
     "execution_count": 6,
     "metadata": {},
     "output_type": "execute_result"
    }
   ],
   "source": [
    "# Training with XGBoost using stratified K fold and randomized search cross-validation\n",
    "from xgboost import XGBRegressor\n",
    "from sklearn.model_selection import RandomizedSearchCV, StratifiedKFold\n",
    "# split data into train and test sets\n",
    "params = {\n",
    "    'n_estimators': [100, 400, 800],\n",
    "    'max_depth': [3, 6, 9],\n",
    "    'learning_rate': [0.05, 0.1, 0.20],\n",
    "    'min_child_weight': [1, 10, 100]\n",
    "    }\n",
    "\n",
    "xgb = XGBRegressor(learning_rate=0.02, objective='reg:squarederror',\n",
    "                    silent=True, nthread=1)\n",
    "folds = 3\n",
    "param_comb = 16\n",
    "\n",
    "skf = StratifiedKFold(n_splits=folds, shuffle = True, random_state = 1001)\n",
    "\n",
    "\n",
    "random_search = RandomizedSearchCV(xgb, param_distributions=params, n_iter=param_comb, scoring='roc_auc', n_jobs=8, cv=skf.split(train_x,train_y), verbose=3, random_state=1001 )\n",
    "random_search.fit(train_x, train_y)"
   ]
  },
  {
   "cell_type": "code",
   "execution_count": 7,
   "id": "8b2980f0",
   "metadata": {
    "execution": {
     "iopub.execute_input": "2022-07-19T13:24:26.612189Z",
     "iopub.status.busy": "2022-07-19T13:24:26.610846Z",
     "iopub.status.idle": "2022-07-19T13:24:26.685156Z",
     "shell.execute_reply": "2022-07-19T13:24:26.683788Z"
    },
    "papermill": {
     "duration": 0.083529,
     "end_time": "2022-07-19T13:24:26.688221",
     "exception": false,
     "start_time": "2022-07-19T13:24:26.604692",
     "status": "completed"
    },
    "tags": []
   },
   "outputs": [],
   "source": [
    "# Perform predictions on test data\n",
    "model = random_search\n",
    "preds = model.predict(test_data)\n",
    "submission = pd.DataFrame()\n",
    "submission['Id'] = test_ids\n",
    "submission['SalePrice'] = preds"
   ]
  },
  {
   "cell_type": "code",
   "execution_count": 8,
   "id": "8c797082",
   "metadata": {
    "execution": {
     "iopub.execute_input": "2022-07-19T13:24:26.699060Z",
     "iopub.status.busy": "2022-07-19T13:24:26.698554Z",
     "iopub.status.idle": "2022-07-19T13:24:26.714344Z",
     "shell.execute_reply": "2022-07-19T13:24:26.712986Z"
    },
    "papermill": {
     "duration": 0.025024,
     "end_time": "2022-07-19T13:24:26.717576",
     "exception": false,
     "start_time": "2022-07-19T13:24:26.692552",
     "status": "completed"
    },
    "tags": []
   },
   "outputs": [],
   "source": [
    "# Save the submission file\n",
    "from pathlib import Path  \n",
    "filepath = Path('submission.csv')  \n",
    "filepath.parent.mkdir(parents=True, exist_ok=True)\n",
    "submission.to_csv('submission.csv', sep=',', index=False)"
   ]
  }
 ],
 "metadata": {
  "kernelspec": {
   "display_name": "Python 3",
   "language": "python",
   "name": "python3"
  },
  "language_info": {
   "codemirror_mode": {
    "name": "ipython",
    "version": 3
   },
   "file_extension": ".py",
   "mimetype": "text/x-python",
   "name": "python",
   "nbconvert_exporter": "python",
   "pygments_lexer": "ipython3",
   "version": "3.7.12"
  },
  "papermill": {
   "default_parameters": {},
   "duration": 125.143738,
   "end_time": "2022-07-19T13:24:29.347221",
   "environment_variables": {},
   "exception": null,
   "input_path": "__notebook__.ipynb",
   "output_path": "__notebook__.ipynb",
   "parameters": {},
   "start_time": "2022-07-19T13:22:24.203483",
   "version": "2.3.4"
  }
 },
 "nbformat": 4,
 "nbformat_minor": 5
}
